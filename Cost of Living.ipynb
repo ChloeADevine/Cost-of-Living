{
 "cells": [
  {
   "cell_type": "code",
   "execution_count": 1,
   "id": "e221164e",
   "metadata": {},
   "outputs": [],
   "source": [
    "import pandas as pd \n",
    "import numpy as np \n",
    "import seaborn as sns \n",
    "import matplotlib.pyplot as plt \n"
   ]
  },
  {
   "cell_type": "code",
   "execution_count": 2,
   "id": "f35a9b5e",
   "metadata": {},
   "outputs": [],
   "source": [
    "df = pd.read_csv('Cost_of_Living_Index_2022.csv')"
   ]
  },
  {
   "cell_type": "code",
   "execution_count": 3,
   "id": "5a0b8683",
   "metadata": {},
   "outputs": [
    {
     "data": {
      "text/html": [
       "<div>\n",
       "<style scoped>\n",
       "    .dataframe tbody tr th:only-of-type {\n",
       "        vertical-align: middle;\n",
       "    }\n",
       "\n",
       "    .dataframe tbody tr th {\n",
       "        vertical-align: top;\n",
       "    }\n",
       "\n",
       "    .dataframe thead th {\n",
       "        text-align: right;\n",
       "    }\n",
       "</style>\n",
       "<table border=\"1\" class=\"dataframe\">\n",
       "  <thead>\n",
       "    <tr style=\"text-align: right;\">\n",
       "      <th></th>\n",
       "      <th>Rank</th>\n",
       "      <th>Country</th>\n",
       "      <th>Cost of Living Index</th>\n",
       "      <th>Rent Index</th>\n",
       "      <th>Cost of Living Plus Rent Index</th>\n",
       "      <th>Groceries Index</th>\n",
       "      <th>Restaurant Price Index</th>\n",
       "      <th>Local Purchasing Power Index</th>\n",
       "    </tr>\n",
       "  </thead>\n",
       "  <tbody>\n",
       "    <tr>\n",
       "      <th>0</th>\n",
       "      <td>1</td>\n",
       "      <td>Afghanistan</td>\n",
       "      <td>20.37</td>\n",
       "      <td>2.72</td>\n",
       "      <td>12.09</td>\n",
       "      <td>14.92</td>\n",
       "      <td>12.41</td>\n",
       "      <td>23.04</td>\n",
       "    </tr>\n",
       "    <tr>\n",
       "      <th>1</th>\n",
       "      <td>2</td>\n",
       "      <td>Albania</td>\n",
       "      <td>35.50</td>\n",
       "      <td>8.47</td>\n",
       "      <td>22.83</td>\n",
       "      <td>29.32</td>\n",
       "      <td>25.82</td>\n",
       "      <td>30.19</td>\n",
       "    </tr>\n",
       "    <tr>\n",
       "      <th>2</th>\n",
       "      <td>3</td>\n",
       "      <td>Algeria</td>\n",
       "      <td>26.87</td>\n",
       "      <td>4.59</td>\n",
       "      <td>16.43</td>\n",
       "      <td>28.82</td>\n",
       "      <td>14.48</td>\n",
       "      <td>24.63</td>\n",
       "    </tr>\n",
       "    <tr>\n",
       "      <th>3</th>\n",
       "      <td>4</td>\n",
       "      <td>Argentina</td>\n",
       "      <td>34.69</td>\n",
       "      <td>7.71</td>\n",
       "      <td>22.04</td>\n",
       "      <td>28.17</td>\n",
       "      <td>33.32</td>\n",
       "      <td>30.72</td>\n",
       "    </tr>\n",
       "    <tr>\n",
       "      <th>4</th>\n",
       "      <td>5</td>\n",
       "      <td>Armenia</td>\n",
       "      <td>33.89</td>\n",
       "      <td>11.61</td>\n",
       "      <td>23.45</td>\n",
       "      <td>27.59</td>\n",
       "      <td>30.55</td>\n",
       "      <td>28.86</td>\n",
       "    </tr>\n",
       "  </tbody>\n",
       "</table>\n",
       "</div>"
      ],
      "text/plain": [
       "   Rank      Country  Cost of Living Index  Rent Index  \\\n",
       "0     1  Afghanistan                 20.37        2.72   \n",
       "1     2      Albania                 35.50        8.47   \n",
       "2     3      Algeria                 26.87        4.59   \n",
       "3     4    Argentina                 34.69        7.71   \n",
       "4     5      Armenia                 33.89       11.61   \n",
       "\n",
       "   Cost of Living Plus Rent Index  Groceries Index  Restaurant Price Index  \\\n",
       "0                           12.09            14.92                   12.41   \n",
       "1                           22.83            29.32                   25.82   \n",
       "2                           16.43            28.82                   14.48   \n",
       "3                           22.04            28.17                   33.32   \n",
       "4                           23.45            27.59                   30.55   \n",
       "\n",
       "   Local Purchasing Power Index  \n",
       "0                         23.04  \n",
       "1                         30.19  \n",
       "2                         24.63  \n",
       "3                         30.72  \n",
       "4                         28.86  "
      ]
     },
     "execution_count": 3,
     "metadata": {},
     "output_type": "execute_result"
    }
   ],
   "source": [
    "df.head()"
   ]
  },
  {
   "cell_type": "code",
   "execution_count": 6,
   "id": "96a8a2da",
   "metadata": {},
   "outputs": [
    {
     "data": {
      "text/html": [
       "<div>\n",
       "<style scoped>\n",
       "    .dataframe tbody tr th:only-of-type {\n",
       "        vertical-align: middle;\n",
       "    }\n",
       "\n",
       "    .dataframe tbody tr th {\n",
       "        vertical-align: top;\n",
       "    }\n",
       "\n",
       "    .dataframe thead th {\n",
       "        text-align: right;\n",
       "    }\n",
       "</style>\n",
       "<table border=\"1\" class=\"dataframe\">\n",
       "  <thead>\n",
       "    <tr style=\"text-align: right;\">\n",
       "      <th></th>\n",
       "      <th>Rank</th>\n",
       "      <th>Cost of Living Index</th>\n",
       "      <th>Rent Index</th>\n",
       "      <th>Cost of Living Plus Rent Index</th>\n",
       "      <th>Groceries Index</th>\n",
       "      <th>Restaurant Price Index</th>\n",
       "      <th>Local Purchasing Power Index</th>\n",
       "    </tr>\n",
       "  </thead>\n",
       "  <tbody>\n",
       "    <tr>\n",
       "      <th>count</th>\n",
       "      <td>139.000000</td>\n",
       "      <td>139.000000</td>\n",
       "      <td>139.000000</td>\n",
       "      <td>139.000000</td>\n",
       "      <td>139.000000</td>\n",
       "      <td>139.000000</td>\n",
       "      <td>139.000000</td>\n",
       "    </tr>\n",
       "    <tr>\n",
       "      <th>mean</th>\n",
       "      <td>70.000000</td>\n",
       "      <td>50.188633</td>\n",
       "      <td>19.291511</td>\n",
       "      <td>35.705324</td>\n",
       "      <td>46.637842</td>\n",
       "      <td>43.444892</td>\n",
       "      <td>46.426259</td>\n",
       "    </tr>\n",
       "    <tr>\n",
       "      <th>std</th>\n",
       "      <td>40.269923</td>\n",
       "      <td>20.860222</td>\n",
       "      <td>15.317726</td>\n",
       "      <td>17.542523</td>\n",
       "      <td>20.952229</td>\n",
       "      <td>24.885969</td>\n",
       "      <td>26.921840</td>\n",
       "    </tr>\n",
       "    <tr>\n",
       "      <th>min</th>\n",
       "      <td>1.000000</td>\n",
       "      <td>19.920000</td>\n",
       "      <td>2.720000</td>\n",
       "      <td>12.090000</td>\n",
       "      <td>14.920000</td>\n",
       "      <td>12.410000</td>\n",
       "      <td>1.450000</td>\n",
       "    </tr>\n",
       "    <tr>\n",
       "      <th>25%</th>\n",
       "      <td>35.500000</td>\n",
       "      <td>34.715000</td>\n",
       "      <td>9.515000</td>\n",
       "      <td>23.310000</td>\n",
       "      <td>31.200000</td>\n",
       "      <td>25.290000</td>\n",
       "      <td>27.040000</td>\n",
       "    </tr>\n",
       "    <tr>\n",
       "      <th>50%</th>\n",
       "      <td>70.000000</td>\n",
       "      <td>44.680000</td>\n",
       "      <td>13.930000</td>\n",
       "      <td>31.260000</td>\n",
       "      <td>40.220000</td>\n",
       "      <td>34.560000</td>\n",
       "      <td>37.220000</td>\n",
       "    </tr>\n",
       "    <tr>\n",
       "      <th>75%</th>\n",
       "      <td>104.500000</td>\n",
       "      <td>62.580000</td>\n",
       "      <td>25.070000</td>\n",
       "      <td>44.865000</td>\n",
       "      <td>56.590000</td>\n",
       "      <td>54.925000</td>\n",
       "      <td>66.105000</td>\n",
       "    </tr>\n",
       "    <tr>\n",
       "      <th>max</th>\n",
       "      <td>139.000000</td>\n",
       "      <td>146.040000</td>\n",
       "      <td>98.580000</td>\n",
       "      <td>123.800000</td>\n",
       "      <td>148.660000</td>\n",
       "      <td>159.170000</td>\n",
       "      <td>118.440000</td>\n",
       "    </tr>\n",
       "  </tbody>\n",
       "</table>\n",
       "</div>"
      ],
      "text/plain": [
       "             Rank  Cost of Living Index  Rent Index  \\\n",
       "count  139.000000            139.000000  139.000000   \n",
       "mean    70.000000             50.188633   19.291511   \n",
       "std     40.269923             20.860222   15.317726   \n",
       "min      1.000000             19.920000    2.720000   \n",
       "25%     35.500000             34.715000    9.515000   \n",
       "50%     70.000000             44.680000   13.930000   \n",
       "75%    104.500000             62.580000   25.070000   \n",
       "max    139.000000            146.040000   98.580000   \n",
       "\n",
       "       Cost of Living Plus Rent Index  Groceries Index  \\\n",
       "count                      139.000000       139.000000   \n",
       "mean                        35.705324        46.637842   \n",
       "std                         17.542523        20.952229   \n",
       "min                         12.090000        14.920000   \n",
       "25%                         23.310000        31.200000   \n",
       "50%                         31.260000        40.220000   \n",
       "75%                         44.865000        56.590000   \n",
       "max                        123.800000       148.660000   \n",
       "\n",
       "       Restaurant Price Index  Local Purchasing Power Index  \n",
       "count              139.000000                    139.000000  \n",
       "mean                43.444892                     46.426259  \n",
       "std                 24.885969                     26.921840  \n",
       "min                 12.410000                      1.450000  \n",
       "25%                 25.290000                     27.040000  \n",
       "50%                 34.560000                     37.220000  \n",
       "75%                 54.925000                     66.105000  \n",
       "max                159.170000                    118.440000  "
      ]
     },
     "execution_count": 6,
     "metadata": {},
     "output_type": "execute_result"
    }
   ],
   "source": [
    "df.describe()"
   ]
  },
  {
   "cell_type": "code",
   "execution_count": 7,
   "id": "810686c1",
   "metadata": {},
   "outputs": [
    {
     "data": {
      "text/plain": [
       "Rank                              0\n",
       "Country                           0\n",
       "Cost of Living Index              0\n",
       "Rent Index                        0\n",
       "Cost of Living Plus Rent Index    0\n",
       "Groceries Index                   0\n",
       "Restaurant Price Index            0\n",
       "Local Purchasing Power Index      0\n",
       "dtype: int64"
      ]
     },
     "execution_count": 7,
     "metadata": {},
     "output_type": "execute_result"
    }
   ],
   "source": [
    "df.isna().sum()"
   ]
  },
  {
   "cell_type": "code",
   "execution_count": 9,
   "id": "1b312b77",
   "metadata": {},
   "outputs": [
    {
     "data": {
      "text/plain": [
       "Index(['Rank', 'Country', 'Cost of Living Index', 'Rent Index',\n",
       "       'Cost of Living Plus Rent Index', 'Groceries Index',\n",
       "       'Restaurant Price Index', 'Local Purchasing Power Index'],\n",
       "      dtype='object')"
      ]
     },
     "execution_count": 9,
     "metadata": {},
     "output_type": "execute_result"
    }
   ],
   "source": [
    "df.columns"
   ]
  },
  {
   "cell_type": "code",
   "execution_count": 12,
   "id": "12abf376",
   "metadata": {},
   "outputs": [
    {
     "data": {
      "text/plain": [
       "139"
      ]
     },
     "execution_count": 12,
     "metadata": {},
     "output_type": "execute_result"
    }
   ],
   "source": [
    "df['Country'].nunique()"
   ]
  },
  {
   "cell_type": "code",
   "execution_count": null,
   "id": "90063337",
   "metadata": {},
   "outputs": [],
   "source": []
  }
 ],
 "metadata": {
  "kernelspec": {
   "display_name": "Python 3 (ipykernel)",
   "language": "python",
   "name": "python3"
  },
  "language_info": {
   "codemirror_mode": {
    "name": "ipython",
    "version": 3
   },
   "file_extension": ".py",
   "mimetype": "text/x-python",
   "name": "python",
   "nbconvert_exporter": "python",
   "pygments_lexer": "ipython3",
   "version": "3.9.13"
  }
 },
 "nbformat": 4,
 "nbformat_minor": 5
}
